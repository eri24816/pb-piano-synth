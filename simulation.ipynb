{
 "cells": [
  {
   "cell_type": "code",
   "execution_count": 2,
   "metadata": {},
   "outputs": [
    {
     "data": {
      "text/plain": [
       "<contextlib.ExitStack at 0x253ff05c410>"
      ]
     },
     "execution_count": 2,
     "metadata": {},
     "output_type": "execute_result"
    }
   ],
   "source": [
    "import numpy as np\n",
    "import matplotlib.animation as animation\n",
    "import matplotlib.pyplot as plt\n",
    "%matplotlib ipympl\n",
    "plt.ioff()"
   ]
  },
  {
   "cell_type": "markdown",
   "metadata": {},
   "source": [
    "The frequency of nth harmonic is given by\n",
    "$$\n",
    "f_n = n f_0 \\sqrt{1 + Bn^2}\n",
    "$$"
   ]
  },
  {
   "cell_type": "code",
   "execution_count": 3,
   "metadata": {},
   "outputs": [],
   "source": [
    "def fn(n):\n",
    "    return n*f0*(1+B*n**2)**0.5"
   ]
  },
  {
   "cell_type": "markdown",
   "metadata": {},
   "source": [
    "$$\n",
    "\\begin{align*}\n",
    "u(x,t) &= \\sum_{n=1}^{\\infty} \\left( a_n \\cos(2\\pi f_n t) + b_n \\sin(2\\pi f_n t) \\right) \\sin\\left(\\frac{n\\pi}{L}x\\right)\n",
    "\\end{align*}\n",
    "$$"
   ]
  },
  {
   "cell_type": "code",
   "execution_count": 4,
   "metadata": {},
   "outputs": [],
   "source": [
    "def freq_to_u(a,b,x,t):\n",
    "    u = 0\n",
    "    for i in range(n_harmony):\n",
    "        n = i + 1\n",
    "        omega_t = 2 * np.pi * fn(n) * t\n",
    "        u += a[i] * np.cos(omega_t) * np.sin(n * np.pi * x / L)\n",
    "        u += b[i] * np.sin(omega_t) * np.sin(n * np.pi * x / L)\n",
    "    return u"
   ]
  },
  {
   "cell_type": "markdown",
   "metadata": {},
   "source": [
    "$$\n",
    "\\begin{align*}\n",
    "\n",
    "a_n(t_0^+) &= a_n(t_0^-) + 2\\frac{J}{L\\rho} \\sin\\left(\\frac{n\\pi}{L}x_0\\right) \\cos(2\\pi f_n t_0) \\\\\n",
    "b_n(t_0^+) &= b_n(t_0^-) + 2\\frac{J}{L\\rho} \\sin\\left(\\frac{n\\pi}{L}x_0\\right) \\sin(2\\pi f_n t_0)\n",
    "\n",
    "\\end{align*}\n",
    "$$"
   ]
  },
  {
   "cell_type": "code",
   "execution_count": 5,
   "metadata": {},
   "outputs": [],
   "source": [
    "def apply_impulse(a,b,x,t,J):\n",
    "    '''\n",
    "    This function changes a and b in place.\n",
    "    '''\n",
    "    for i in range(n_harmony):\n",
    "        n = i + 1\n",
    "        common = 2 * J / L / rho * np.sin(n * np.pi * x / L)\n",
    "        omega_t = 2 * np.pi * fn(n) * t\n",
    "        a[i] += common * np.cos(omega_t)\n",
    "        b[i] += common * np.sin(omega_t)"
   ]
  },
  {
   "cell_type": "markdown",
   "metadata": {},
   "source": [
    "Parameters"
   ]
  },
  {
   "cell_type": "code",
   "execution_count": 45,
   "metadata": {},
   "outputs": [],
   "source": [
    "L = 1\n",
    "tension = 8000 # 8000N\n",
    "mass = 0.009 # 9g\n",
    "rho = mass / L\n",
    "ESK2 = 0.00000 # Determins stiffness. should be small.\n",
    "B = np.pi**2 * ESK2 / tension / L**2\n",
    "c = (tension / rho) ** 0.5\n",
    "f0 = c / (2 * L)\n",
    "\n",
    "n_harmony = 30\n",
    "\n",
    "dt = 1/44100\n",
    "render_dt = 1/44100"
   ]
  },
  {
   "cell_type": "markdown",
   "metadata": {},
   "source": [
    "We solve for the coefficients $a_n$ and $b_n$."
   ]
  },
  {
   "cell_type": "code",
   "execution_count": 54,
   "metadata": {},
   "outputs": [],
   "source": [
    "# initial conditions\n",
    "\n",
    "a = np.zeros(n_harmony)\n",
    "b = np.zeros(n_harmony)\n",
    "t=0\n",
    "\n",
    "hammer_mass = 0.001 # 1g\n",
    "hammer_x = 8/13\n",
    "hammer_elasticity = 100\n",
    "\n",
    "hammer_pos = 0.001\n",
    "hammer_vel = -0.5\n",
    "\n",
    "#apply_impulse(a,b,0.5,t,0.00001)\n",
    "\n",
    "def update():\n",
    "    global t, hammer_pos, hammer_vel\n",
    "\n",
    "    # apply impulse at x = 0.3, t = 0.3\n",
    "    # if t <= 0.3 < t + dt:\n",
    "    #     apply_impulse(a,b,0.3,t,0.1)\n",
    "\n",
    "    # interact with hammer\n",
    "\n",
    "    hammer_pos += hammer_vel * dt\n",
    "    string_u = freq_to_u(a,b,hammer_x,t)\n",
    "    if hammer_pos < string_u: # hammer is below the string\n",
    "\n",
    "        # the impulse applied to the hammer\n",
    "        hammer_impulse = hammer_elasticity * (string_u - hammer_pos) * dt\n",
    "\n",
    "        # apply impulse to the hammer\n",
    "        hammer_vel += hammer_impulse / hammer_mass\n",
    "\n",
    "        # apply impulse to the string\n",
    "        apply_impulse(a,b,hammer_x,t,-hammer_impulse)\n",
    "\n",
    "    hammer_pos += hammer_vel * dt\n",
    "    \n",
    "    t += dt\n",
    "\n",
    "n_frames = 1000\n",
    "rendered_string = [] \n",
    "rendered_hammer_pos = []\n",
    "while len(rendered_string) < n_frames:\n",
    "    update()\n",
    "    if t//render_dt > (t-dt)//render_dt:\n",
    "        rendered_string.append(freq_to_u(a,b,np.linspace(0,L,200),t))\n",
    "        rendered_hammer_pos.append(hammer_pos)"
   ]
  },
  {
   "cell_type": "markdown",
   "metadata": {},
   "source": [
    "This animation code works in Notebook in VSCode. For other environments, you may need to change the code."
   ]
  },
  {
   "cell_type": "code",
   "execution_count": 56,
   "metadata": {},
   "outputs": [
    {
     "data": {
      "application/vnd.jupyter.widget-view+json": {
       "model_id": "9ffcfba9dacf4e6e80fef1a5b47b8c9b",
       "version_major": 2,
       "version_minor": 0
      },
      "image/png": "[encoded data removed]",
      "text/html": [
       "\n",
       "            <div style=\"display: inline-block;\">\n",
       "                <div class=\"jupyter-widgets widget-label\" style=\"text-align: center;\">\n",
       "                    Figure\n",
       "                </div>\n",
       "                <img src='data:image/png;base64,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' width=640.0/>\n",
       "            </div>\n",
       "        "
      ],
      "text/plain": [
       "Canvas(toolbar=Toolbar(toolitems=[('Home', 'Reset original view', 'home', 'home'), ('Back', 'Back to previous …"
      ]
     },
     "metadata": {},
     "output_type": "display_data"
    }
   ],
   "source": [
    "def animate():\n",
    "    global ani\n",
    "    fig, ax = plt.subplots()\n",
    "    ax.set_ylim(-0.005, 0.005)\n",
    "\n",
    "    line, = ax.plot(np.linspace(0,L,200),rendered_string[0], 'b')\n",
    "    # hammer\n",
    "    hammer = ax.plot([hammer_x, hammer_x], [-0, 0], 'r')[0]\n",
    "\n",
    "    def animate_step(i):\n",
    "        line.set_ydata(rendered_string[i])\n",
    "        hammer.set_ydata([rendered_hammer_pos[i], rendered_hammer_pos[i]+0.005])\n",
    "\n",
    "        return line, hammer\n",
    "\n",
    "    ani = animation.FuncAnimation(fig, animate_step, frames=n_frames, interval=1000/30, repeat=False)\n",
    "    plt.show()\n",
    "\n",
    "animate()"
   ]
  },
  {
   "cell_type": "code",
   "execution_count": 77,
   "metadata": {},
   "outputs": [],
   "source": [
    "ani.save('stiffness.mp4', writer='ffmpeg', fps=30)"
   ]
  },
  {
   "cell_type": "code",
   "execution_count": 44,
   "metadata": {},
   "outputs": [
    {
     "data": {
      "text/plain": [
       "149.07119849998597"
      ]
     },
     "execution_count": 44,
     "metadata": {},
     "output_type": "execute_result"
    }
   ],
   "source": [
    "f0"
   ]
  },
  {
   "cell_type": "code",
   "execution_count": 13,
   "metadata": {},
   "outputs": [
    {
     "data": {
      "text/plain": [
       "0.0021213203435596424"
      ]
     },
     "execution_count": 13,
     "metadata": {},
     "output_type": "execute_result"
    }
   ],
   "source": [
    "1/f0"
   ]
  },
  {
   "cell_type": "code",
   "execution_count": null,
   "metadata": {},
   "outputs": [],
   "source": []
  }
 ],
 "metadata": {
  "kernelspec": {
   "display_name": "gr",
   "language": "python",
   "name": "python3"
  },
  "language_info": {
   "codemirror_mode": {
    "name": "ipython",
    "version": 3
   },
   "file_extension": ".py",
   "mimetype": "text/x-python",
   "name": "python",
   "nbconvert_exporter": "python",
   "pygments_lexer": "ipython3",
   "version": "3.11.4"
  }
 },
 "nbformat": 4,
 "nbformat_minor": 2
}
