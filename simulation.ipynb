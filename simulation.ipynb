{
 "cells": [
  {
   "cell_type": "code",
   "execution_count": 1,
   "metadata": {},
   "outputs": [
    {
     "data": {
      "text/plain": [
       "<contextlib.ExitStack at 0x124130786d0>"
      ]
     },
     "execution_count": 1,
     "metadata": {},
     "output_type": "execute_result"
    }
   ],
   "source": [
    "import numpy as np\n",
    "import matplotlib.animation as animation\n",
    "import matplotlib.pyplot as plt\n",
    "%matplotlib ipympl\n",
    "plt.ioff()"
   ]
  },
  {
   "cell_type": "markdown",
   "metadata": {},
   "source": [
    "The frequency of nth harmonic is given by\n",
    "$$\n",
    "f_n = n f_0 \\sqrt{1 + Bn^2}\n",
    "$$"
   ]
  },
  {
   "cell_type": "code",
   "execution_count": 2,
   "metadata": {},
   "outputs": [],
   "source": [
    "def fn(n):\n",
    "    return n*f0*(1+B*n**2)**0.5"
   ]
  },
  {
   "cell_type": "markdown",
   "metadata": {},
   "source": [
    "$$\n",
    "\\begin{align*}\n",
    "u(x,t) &= \\sum_{n=1}^{\\infty} \\left( a_n \\cos(2\\pi f_n t) + b_n \\sin(2\\pi f_n t) \\right) \\sin\\left(\\frac{n\\pi}{L}x\\right)\n",
    "\\end{align*}\n",
    "$$"
   ]
  },
  {
   "cell_type": "code",
   "execution_count": 3,
   "metadata": {},
   "outputs": [],
   "source": [
    "def freq_to_u(a,b,x,t):\n",
    "    u = 0\n",
    "    for i in range(n_harmony):\n",
    "        n = i + 1\n",
    "        omega_t = 2 * np.pi * fn(n) * t\n",
    "        u += a[i] * np.cos(omega_t) * np.sin(n * np.pi * x / L)\n",
    "        u += b[i] * np.sin(omega_t) * np.sin(n * np.pi * x / L)\n",
    "    return u"
   ]
  },
  {
   "cell_type": "markdown",
   "metadata": {},
   "source": [
    "$$\n",
    "\\begin{align*}\n",
    "\n",
    "a_n(t_0^+) &= a_n(t_0^-) + 2\\frac{J}{L\\rho} \\sin\\left(\\frac{n\\pi}{L}x_0\\right) \\cos(2\\pi f_n t_0) \\\\\n",
    "b_n(t_0^+) &= b_n(t_0^-) + 2\\frac{J}{L\\rho} \\sin\\left(\\frac{n\\pi}{L}x_0\\right) \\sin(2\\pi f_n t_0)\n",
    "\n",
    "\\end{align*}\n",
    "$$"
   ]
  },
  {
   "cell_type": "code",
   "execution_count": 4,
   "metadata": {},
   "outputs": [],
   "source": [
    "def apply_impulse(a,b,x,t,J):\n",
    "    '''\n",
    "    This function changes a and b in place.\n",
    "    '''\n",
    "    for i in range(n_harmony):\n",
    "        n = i + 1\n",
    "        common = 2 * J / L / rho * np.sin(n * np.pi * x / L)\n",
    "        omega_t = 2 * np.pi * fn(n) * t\n",
    "        a[i] += common * np.cos(omega_t)\n",
    "        b[i] += common * np.sin(omega_t)"
   ]
  },
  {
   "cell_type": "markdown",
   "metadata": {},
   "source": [
    "Parameters"
   ]
  },
  {
   "cell_type": "code",
   "execution_count": 72,
   "metadata": {},
   "outputs": [],
   "source": [
    "L = 1\n",
    "tension = 1\n",
    "rho = 1\n",
    "ESK2 = 0.00001 # Determins stiffness. should be small.\n",
    "B = np.pi**2 * ESK2 / tension / L**2\n",
    "c = (tension / rho) ** 0.5\n",
    "f0 = c / (2 * L)\n",
    "\n",
    "n_harmony = 30\n",
    "\n",
    "dt = 0.002\n",
    "render_dt = 0.006"
   ]
  },
  {
   "cell_type": "markdown",
   "metadata": {},
   "source": [
    "We solve for the coefficients $a_n$ and $b_n$."
   ]
  },
  {
   "cell_type": "code",
   "execution_count": 73,
   "metadata": {},
   "outputs": [],
   "source": [
    "# initial conditions\n",
    "\n",
    "a = np.zeros(n_harmony)\n",
    "b = np.zeros(n_harmony)\n",
    "t=0\n",
    "\n",
    "def update():\n",
    "    global t\n",
    "\n",
    "    # apply impulse at x = 0.3, t = 0.3\n",
    "    if t <= 0.3 < t + dt:\n",
    "        apply_impulse(a,b,0.3,t,0.1)\n",
    "\n",
    "    t += dt\n",
    "\n",
    "n_frames = 1000\n",
    "rendered = []\n",
    "while len(rendered) < n_frames:\n",
    "    update()\n",
    "    if t//render_dt > (t-dt)//render_dt:\n",
    "        rendered.append(freq_to_u(a,b,np.linspace(0,L,200),t))"
   ]
  },
  {
   "cell_type": "markdown",
   "metadata": {},
   "source": [
    "This animation code works in Notebook in VSCode. For other environments, you may need to change the code."
   ]
  },
  {
   "cell_type": "code",
   "execution_count": 76,
   "metadata": {},
   "outputs": [],
   "source": [
    "fig, ax = plt.subplots()\n",
    "ax.set_ylim(-3, 3)\n",
    "\n",
    "line, = ax.plot(rendered[0])\n",
    "\n",
    "def animate(i):\n",
    "    global t, render_dt\n",
    "    line.set_ydata(rendered[i])\n",
    "    return line,\n",
    "\n",
    "ani = animation.FuncAnimation(fig, animate, frames=n_frames, interval=1000/30, repeat=False)\n",
    "plt.show()"
   ]
  },
  {
   "cell_type": "code",
   "execution_count": 77,
   "metadata": {},
   "outputs": [],
   "source": [
    "ani.save('stiffness.mp4', writer='ffmpeg', fps=30)"
   ]
  }
 ],
 "metadata": {
  "kernelspec": {
   "display_name": "gr",
   "language": "python",
   "name": "python3"
  },
  "language_info": {
   "codemirror_mode": {
    "name": "ipython",
    "version": 3
   },
   "file_extension": ".py",
   "mimetype": "text/x-python",
   "name": "python",
   "nbconvert_exporter": "python",
   "pygments_lexer": "ipython3",
   "version": "3.11.9"
  }
 },
 "nbformat": 4,
 "nbformat_minor": 2
}
